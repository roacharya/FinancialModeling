{
 "cells": [
  {
   "attachments": {
    "bs.png": {
     "image/png": "[encoded data removed]"
    }
   },
   "cell_type": "markdown",
   "metadata": {},
   "source": [
    "# Black-Scholes Model\n",
    "\n",
    "Calculates the price of a vanilla European call or put option\n",
    "![bs.png](attachment:bs.png)"
   ]
  },
  {
   "cell_type": "code",
   "execution_count": 1,
   "metadata": {},
   "outputs": [],
   "source": [
    "import numpy as np\n",
    "import math"
   ]
  },
  {
   "cell_type": "code",
   "execution_count": 2,
   "metadata": {},
   "outputs": [],
   "source": [
    "def phi(x):\n",
    "    return (1 + math.erf(x / np.sqrt(2))) / 2\n",
    "\n",
    "def black_scholes(S, K, T, r, sigma, option = 'call'):\n",
    "    \n",
    "    #S: spot(current) price\n",
    "    #K: strike price\n",
    "    #T: time to maturity\n",
    "    #r: interest rate\n",
    "    #sigma: volatility\n",
    "    \n",
    "    d1 = (np.log(S/K) + T * (r + 0.5 * sigma ** 2)) / (sigma * np.sqrt(T))\n",
    "    d2 = d1 - sigma * np.sqrt(T)\n",
    "    \n",
    "    if option == 'call':\n",
    "        price = S * phi(d1) - K * np.exp(-r * T) * phi(d2)\n",
    "    if option == 'put':\n",
    "        price = K * np.exp(-r * T) * phi(-d2) - S * phi(-d1)\n",
    "        \n",
    "    return price"
   ]
  },
  {
   "cell_type": "code",
   "execution_count": 3,
   "metadata": {},
   "outputs": [
    {
     "data": {
      "text/plain": [
       "1.2948314587993106e-11"
      ]
     },
     "execution_count": 3,
     "metadata": {},
     "output_type": "execute_result"
    }
   ],
   "source": [
    "black_scholes(10,20,1,0.05,0.10)"
   ]
  },
  {
   "cell_type": "code",
   "execution_count": 4,
   "metadata": {},
   "outputs": [
    {
     "data": {
      "text/plain": [
       "9.024588490027227"
      ]
     },
     "execution_count": 4,
     "metadata": {},
     "output_type": "execute_result"
    }
   ],
   "source": [
    "black_scholes(10,20,1,0.05,0.10,'put')"
   ]
  },
  {
   "attachments": {
    "bs%20with%20dy.png": {
     "image/png": "[encoded data removed]"
    }
   },
   "cell_type": "markdown",
   "metadata": {},
   "source": [
    "# Black-Scholes with dividend yield\n",
    "\n",
    "Calculates the price of a vanilla European call or put option with dividend yield\n",
    "![bs%20with%20dy.png](attachment:bs%20with%20dy.png)"
   ]
  },
  {
   "cell_type": "code",
   "execution_count": 5,
   "metadata": {},
   "outputs": [],
   "source": [
    "def black_scholes_with_dividends(S, K, T, r, sigma, q, option = 'call'):\n",
    "    \n",
    "    #S: spot(current) price\n",
    "    #K: strike price\n",
    "    #T: time to maturity\n",
    "    #r: interest rate\n",
    "    #sigma: volatility\n",
    "    #q: dividend rate of asset(assumed to be paid at a constant rate)\n",
    "    \n",
    "    d1 = (np.log(S/K) + T * (r - q + 0.5 * sigma ** 2)) / (sigma * np.sqrt(T))\n",
    "    d2 = d1 - sigma * np.sqrt(T)\n",
    "    \n",
    "    if option == 'call':\n",
    "        price = S * phi(d1) * np.exp(-q * T) - K * np.exp(-r * T) * phi(d2)\n",
    "    if option == 'put':\n",
    "        price = K * np.exp(-r * T) * phi(-d2) - S * np.exp(-q * T) * phi(-d1)\n",
    "        \n",
    "    return price"
   ]
  }
 ],
 "metadata": {
  "kernelspec": {
   "display_name": "Python 3",
   "language": "python",
   "name": "python3"
  },
  "language_info": {
   "codemirror_mode": {
    "name": "ipython",
    "version": 3
   },
   "file_extension": ".py",
   "mimetype": "text/x-python",
   "name": "python",
   "nbconvert_exporter": "python",
   "pygments_lexer": "ipython3",
   "version": "3.7.7"
  }
 },
 "nbformat": 4,
 "nbformat_minor": 4
}
